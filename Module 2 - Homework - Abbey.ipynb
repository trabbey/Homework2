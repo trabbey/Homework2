{
 "cells": [
  {
   "cell_type": "markdown",
   "id": "c209b646",
   "metadata": {},
   "source": [
    "### Homework #2"
   ]
  },
  {
   "cell_type": "markdown",
   "id": "869ebfd6",
   "metadata": {},
   "source": [
    "1. Round 4.5667 to the nearest hundreth (2 decimals) using a build-in function, round()."
   ]
  },
  {
   "cell_type": "code",
   "execution_count": 1,
   "id": "123658aa",
   "metadata": {},
   "outputs": [
    {
     "data": {
      "text/plain": [
       "4.57"
      ]
     },
     "execution_count": 1,
     "metadata": {},
     "output_type": "execute_result"
    }
   ],
   "source": [
    "round(4.5667,2)"
   ]
  },
  {
   "cell_type": "markdown",
   "id": "9d3f352c",
   "metadata": {},
   "source": [
    "2. Convert \"657\" to an integer data type"
   ]
  },
  {
   "cell_type": "code",
   "execution_count": 2,
   "id": "d5a67683",
   "metadata": {},
   "outputs": [
    {
     "data": {
      "text/plain": [
       "657"
      ]
     },
     "execution_count": 2,
     "metadata": {},
     "output_type": "execute_result"
    }
   ],
   "source": [
    "int(\"657\")"
   ]
  },
  {
   "cell_type": "markdown",
   "id": "a36f06d4",
   "metadata": {},
   "source": [
    "3. Write a program to get two numbers from a user. Then, create a 6-digit code that is a series of randomly generated numbers between the two numbers given by the user. Print the 6-digit code so all digits are separated by a dash. "
   ]
  },
  {
   "cell_type": "code",
   "execution_count": 6,
   "id": "021c92d4",
   "metadata": {},
   "outputs": [
    {
     "name": "stdout",
     "output_type": "stream",
     "text": [
      "Please enter a number: 45\n",
      "Please enter another number: 100\n",
      "Your new code is: 65-73-86-46-46-99\n"
     ]
    }
   ],
   "source": [
    "import random as rand\n",
    "\n",
    "n1 = float(input(\"Please enter a number: \"))\n",
    "n2 = float(input(\"Please enter another number: \"))\n",
    "\n",
    "digit1 = rand.randint(n1, n2)\n",
    "digit2 = rand.randint(n1, n2)\n",
    "digit3 = rand.randint(n1, n2)\n",
    "digit4 = rand.randint(n1, n2)\n",
    "digit5 = rand.randint(n1, n2)\n",
    "digit6 = rand.randint(n1, n2)\n",
    "\n",
    "print(f\"Your new code is: {digit1}-{digit2}-{digit3}-{digit4}-{digit5}-{digit6}\")"
   ]
  },
  {
   "cell_type": "markdown",
   "id": "ee1441a1",
   "metadata": {},
   "source": [
    "4. Write a program to remove ALL the white spaces from the following text:\n",
    "\n",
    "        Hickory, dickory, dock,     \n",
    "        The mouse ran up the clock.   \n",
    "        The clock struck one,   \n",
    "        The mouse ran down,                      \n",
    "        Hickory, dickory, dock                  "
   ]
  },
  {
   "cell_type": "code",
   "execution_count": 16,
   "id": "59d9c718",
   "metadata": {},
   "outputs": [
    {
     "name": "stdout",
     "output_type": "stream",
     "text": [
      "Hickory,dickory,dock,\n",
      "Themouseranuptheclock.\n",
      "Theclockstruckone,\n",
      "Themouserandown,\n",
      "Hickory,dickory,dock\n"
     ]
    }
   ],
   "source": [
    "r1 = \" Hickory, dickory, dock,     \"\n",
    "r2 = \" The mouse ran up the clock.   \"\n",
    "r3 = \" The clock struck one,   \"\n",
    "r4 = \" The mouse ran down,                      \"\n",
    "r5 = \" Hickory, dickory, dock \"\n",
    "\n",
    "\n",
    "r1 = (r1.strip())\n",
    "r2 = (r2.strip())\n",
    "r3 = (r3.strip())\n",
    "r4 = (r4.strip())\n",
    "r5 = (r5.strip())\n",
    "\n",
    "print(r1.replace(\" \", \"\"))\n",
    "print(r2.replace(\" \", \"\"))\n",
    "print(r3.replace(\" \", \"\"))\n",
    "print(r4.replace(\" \", \"\"))\n",
    "print(r5.replace(\" \", \"\"))"
   ]
  },
  {
   "cell_type": "code",
   "execution_count": null,
   "id": "11c24618",
   "metadata": {},
   "outputs": [],
   "source": []
  },
  {
   "cell_type": "markdown",
   "id": "72d87b5b",
   "metadata": {},
   "source": [
    "5. Write a function to calculate the miles per gallon. Get a miles driven and gallons used from a user and call your function to calculate the miles per gallon."
   ]
  },
  {
   "cell_type": "code",
   "execution_count": 48,
   "id": "27be7372",
   "metadata": {},
   "outputs": [
    {
     "name": "stdout",
     "output_type": "stream",
     "text": [
      "Please enter the number of miles driven: 120\n",
      "Please enter the number of gallons used: 18\n",
      "Your miles = 120.0, and your gallons = 18.0, therefore your miles/gallon is 6.67.\n"
     ]
    }
   ],
   "source": [
    "def mpg():\n",
    "    miles = float(input(\"Please enter the number of miles driven: \"))\n",
    "    gallons = float(input(\"Please enter the number of gallons used: \"))\n",
    "    mpg = miles/gallons\n",
    "    print(f\"Your miles = {miles}, and your gallons = {gallons}, therefore your miles/gallon is {mpg:.2f}.\")\n",
    "    \n",
    "mpg()\n",
    "\n"
   ]
  },
  {
   "cell_type": "markdown",
   "id": "1f3942b8",
   "metadata": {},
   "source": [
    "6. Enhance the <b>compute()</b> function created during Module 2. Enhance the function to compute a circle's area and circumference where:\n",
    "\n",
    " - circle's area = 3.14 X (radius X radius)   \n",
    " - circle's circumference = 3.14 X diameter"
   ]
  },
  {
   "cell_type": "code",
   "execution_count": null,
   "id": "df43daca",
   "metadata": {},
   "outputs": [],
   "source": [
    "# defining the function \n",
    "\n",
    "def compute(l, w):\n",
    "    A = l * w\n",
    "    P = (l + w) * 2\n",
    "    print(f\"Area is {A}\")\n",
    "    print(f\"Perimeter is {P}\")\n",
    "\n",
    "# using the function to compute specific values\n",
    "\n",
    "print(\"The Area and Perimeter Program\")  \n",
    "\n",
    "length = int(input(\"Please enter a length:  \"))\n",
    "width = int(input(\"please enter a width:  \"))\n",
    "\n",
    "# apply the function to the user defined values \n",
    "\n",
    "compute(length, width)"
   ]
  },
  {
   "cell_type": "code",
   "execution_count": 69,
   "id": "fa8de89a",
   "metadata": {},
   "outputs": [
    {
     "name": "stdout",
     "output_type": "stream",
     "text": [
      "Please enter the radius in inches:  12\n",
      "The Area and Circumference Program\n",
      "Area is 452.16 inches\n",
      "Perimeter is 75.36 inches\n"
     ]
    }
   ],
   "source": [
    "# defining the function \n",
    "\n",
    "def compute(r):\n",
    "    r = float(input(\"Please enter the radius in inches:  \"))\n",
    "    ca = 3.14 * (r * r)\n",
    "    cc = 2 * 3.14 * r\n",
    "    print(\"The Area and Circumference Program\")\n",
    "    print(f\"Area is {ca} inches\")\n",
    "    print(f\"Perimeter is {cc} inches\")\n",
    "    \n",
    "compute(r)\n",
    "\n",
    "# using the function to compute specific values\n",
    "\n",
    "\n",
    "\n",
    "\n",
    "\n",
    "\n",
    "\n",
    "# apply the function to the user defined values \n",
    "\n"
   ]
  },
  {
   "cell_type": "markdown",
   "id": "4c5d83bb",
   "metadata": {},
   "source": [
    "7. Write a function called multiply_two() that accepts two parameters. The function should print a message like '15 * 2 = 30'.  Randomly generate two numbers between 1 and 100, then call the function with the two random numbers."
   ]
  },
  {
   "cell_type": "code",
   "execution_count": 52,
   "id": "fe5ca2dc",
   "metadata": {},
   "outputs": [],
   "source": [
    "import random as rand\n",
    "\n",
    "def multiply_two(x,y):\n",
    "    print(f\"{x} * {y} = {x * y}\")"
   ]
  },
  {
   "cell_type": "code",
   "execution_count": 59,
   "id": "9f83774c",
   "metadata": {},
   "outputs": [
    {
     "name": "stdout",
     "output_type": "stream",
     "text": [
      "59 * 31 = 1829\n"
     ]
    }
   ],
   "source": [
    "num1 = rand.randint(1, 100)\n",
    "num2 = rand.randint(1, 100)\n",
    "\n",
    "multiply_two(num1, num2)"
   ]
  },
  {
   "cell_type": "markdown",
   "id": "36865477",
   "metadata": {},
   "source": [
    "8. Create a function for a multiplication table.  Get a number from a user and then call you function which produces a multiplication table for that number.\n",
    "The output should look something like this:\n",
    "\n",
    "        Enter a number: 3\n",
    "        3 X 1 = 3\n",
    "        3 X 2 = 6\n",
    "        3 X 3 = 9\n",
    "        3 X 4 = 12\n",
    "        3 X 5 = 15\n",
    "        3 X 6 = 18\n",
    "        3 X 7 = 21\n",
    "        3 X 8 = 24\n",
    "        3 X 9 = 27"
   ]
  },
  {
   "cell_type": "code",
   "execution_count": 57,
   "id": "b023e863",
   "metadata": {},
   "outputs": [],
   "source": [
    "def multiply(x):\n",
    "    print(f\"{x} * 1 = {x * 1}\")\n",
    "    print(f\"{x} * 2 = {x * 2}\")\n",
    "    print(f\"{x} * 3 = {x * 3}\")\n",
    "    print(f\"{x} * 4 = {x * 4}\")\n",
    "    print(f\"{x} * 5 = {x * 5}\")\n",
    "    print(f\"{x} * 6 = {x * 6}\")\n",
    "    print(f\"{x} * 7 = {x * 7}\")\n",
    "    print(f\"{x} * 8 = {x * 8}\")\n",
    "    print(f\"{x} * 9 = {x * 9}\")"
   ]
  },
  {
   "cell_type": "code",
   "execution_count": 58,
   "id": "563c8445",
   "metadata": {},
   "outputs": [
    {
     "name": "stdout",
     "output_type": "stream",
     "text": [
      "Please enter a number:\t26\n",
      "26 * 1 = 26\n",
      "26 * 2 = 52\n",
      "26 * 3 = 78\n",
      "26 * 4 = 104\n",
      "26 * 5 = 130\n",
      "26 * 6 = 156\n",
      "26 * 7 = 182\n",
      "26 * 8 = 208\n",
      "26 * 9 = 234\n"
     ]
    }
   ],
   "source": [
    "num = int(input(\"Please enter a number:\\t\"))\n",
    "\n",
    "multiply(num)"
   ]
  },
  {
   "cell_type": "code",
   "execution_count": null,
   "id": "b39985f1",
   "metadata": {},
   "outputs": [],
   "source": []
  }
 ],
 "metadata": {
  "kernelspec": {
   "display_name": "Python 3",
   "language": "python",
   "name": "python3"
  },
  "language_info": {
   "codemirror_mode": {
    "name": "ipython",
    "version": 3
   },
   "file_extension": ".py",
   "mimetype": "text/x-python",
   "name": "python",
   "nbconvert_exporter": "python",
   "pygments_lexer": "ipython3",
   "version": "3.8.8"
  }
 },
 "nbformat": 4,
 "nbformat_minor": 5
}
